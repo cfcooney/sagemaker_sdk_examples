{
 "cells": [
  {
   "cell_type": "markdown",
   "id": "4d3b0f65-b56b-4872-844e-d7939db04b4a",
   "metadata": {},
   "source": [
    "## Setup and run a hyperparameter tuning job with the SageMaker SDK and HuggingFace container - this example uses the HuggingFace Trainer class.\n",
    "1. Load data to S3 for training.\n",
    "2. Configure SageMaker HuggingFace estimator.\n",
    "3. Select hyperparameters to search.\n",
    "4. Configure hyperparameter sweep with SageMaker Tuner.\n",
    "5. Evaluate results.\n",
    "6. Use best model for inference and deploy.\n",
    "\n",
    "## The main difference between this notebook and hyperparameter_tuning.ipynb is that the training script I use here works with the HuggingFace Trainer class."
   ]
  },
  {
   "cell_type": "markdown",
   "id": "8f7689af-dd70-4bf1-98fe-596cfd6f9236",
   "metadata": {},
   "source": [
    "I am using a PyTorch 1.8 Python 3.6 GPU optimized kernel - Different kernels may require different versioning."
   ]
  },
  {
   "cell_type": "code",
   "execution_count": 4,
   "id": "58d21608-e27e-48e1-b994-399f802b8d62",
   "metadata": {
    "tags": []
   },
   "outputs": [],
   "source": [
    "# !pip install \"sagemaker>=2.48.0\" \"transformers==4.12.3\" \"datasets[s3]==1.18.3\" --upgrade\n",
    "# !pip install aiobotocore\n",
    "#!{sys.executable} -m pip install ..."
   ]
  },
  {
   "cell_type": "markdown",
   "id": "c195d465-0e1b-4e48-9f9a-6ae79bd09b84",
   "metadata": {},
   "source": [
    "imports"
   ]
  },
  {
   "cell_type": "code",
   "execution_count": 126,
   "id": "cb3d35c2-e1b3-4b88-818e-bb8c2dc6a94f",
   "metadata": {
    "tags": []
   },
   "outputs": [],
   "source": [
    "import sagemaker\n",
    "import boto3\n",
    "import sagemaker.huggingface\n",
    "from sagemaker.tuner import (\n",
    "    IntegerParameter,\n",
    "    CategoricalParameter,\n",
    "    ContinuousParameter,\n",
    "    HyperparameterTuner\n",
    ")\n",
    "\n",
    "from sagemaker.huggingface import HuggingFace\n",
    "\n",
    "from datasets import load_dataset\n",
    "from transformers import AutoTokenizer, get_constant_schedule, get_constant_schedule_with_warmup\n",
    "import s3fs\n",
    "\n",
    "from utils import summarize_hpo_results"
   ]
  },
  {
   "cell_type": "code",
   "execution_count": 6,
   "id": "a7d7d1fd-0c99-4425-9485-3c12f01caeae",
   "metadata": {
    "tags": []
   },
   "outputs": [],
   "source": [
    "session = sagemaker.Session()\n",
    "\n",
    "role = sagemaker.get_execution_role()\n",
    "role_name = role.split('/')[-1]\n",
    "\n",
    "sagemaker_session_bucket = session.default_bucket()"
   ]
  },
  {
   "cell_type": "code",
   "execution_count": 7,
   "id": "dc2d3011-d863-491c-9845-38d6bc3fdc2a",
   "metadata": {
    "tags": []
   },
   "outputs": [
    {
     "name": "stdout",
     "output_type": "stream",
     "text": [
      "sagemaker role arn: arn:aws:iam::264639154954:role/aaca-ani-cogsci-sagemaker-studio-role\n",
      "sagemaker bucket: sagemaker-us-east-1-264639154954\n",
      "sagemaker session region: us-east-1\n"
     ]
    }
   ],
   "source": [
    "session = sagemaker.Session(default_bucket=sagemaker_session_bucket)\n",
    "\n",
    "print(f\"sagemaker role arn: {role}\")\n",
    "print(f\"sagemaker bucket: {session.default_bucket()}\")\n",
    "print(f\"sagemaker session region: {session.boto_region_name}\")"
   ]
  },
  {
   "cell_type": "markdown",
   "id": "d23a77d0-0791-4edd-bb4e-6e57b3ecc910",
   "metadata": {
    "tags": []
   },
   "source": [
    "Download data from Datasets library and store in S3"
   ]
  },
  {
   "cell_type": "code",
   "execution_count": 8,
   "id": "b2ed457b-fe0e-44e0-84f4-4169aba5d795",
   "metadata": {
    "tags": []
   },
   "outputs": [],
   "source": [
    "dataset_name = \"imdb\"\n",
    "\n",
    "s3_prefix = \"samples/datasets/imdb\"\n",
    "\n",
    "tokenizer_name = \"distilbert-base-uncased\""
   ]
  },
  {
   "cell_type": "code",
   "execution_count": 9,
   "id": "e74c0e6e-aab1-40ae-9fc7-a77fd22bad33",
   "metadata": {
    "tags": []
   },
   "outputs": [
    {
     "name": "stderr",
     "output_type": "stream",
     "text": [
      "Reusing dataset imdb (/root/.cache/huggingface/datasets/imdb/plain_text/1.0.0/2fdd8b9bcadd6e7055e742a706876ba43f19faee861df134affd7a3f60fc38a1)\n"
     ]
    },
    {
     "data": {
      "application/vnd.jupyter.widget-view+json": {
       "model_id": "b2bf87c6d2dd45fd9950cb9082315357",
       "version_major": 2,
       "version_minor": 0
      },
      "text/plain": [
       "  0%|          | 0/3 [00:00<?, ?it/s]"
      ]
     },
     "metadata": {},
     "output_type": "display_data"
    },
    {
     "name": "stderr",
     "output_type": "stream",
     "text": [
      "Reusing dataset imdb (/root/.cache/huggingface/datasets/imdb/plain_text/1.0.0/2fdd8b9bcadd6e7055e742a706876ba43f19faee861df134affd7a3f60fc38a1)\n"
     ]
    },
    {
     "data": {
      "application/vnd.jupyter.widget-view+json": {
       "model_id": "509ad1dcd24f435c9dd45a44a7c14b9c",
       "version_major": 2,
       "version_minor": 0
      },
      "text/plain": [
       "  0%|          | 0/2 [00:00<?, ?it/s]"
      ]
     },
     "metadata": {},
     "output_type": "display_data"
    }
   ],
   "source": [
    "dataset = load_dataset(dataset_name, ignore_verifications=True)\n",
    "\n",
    "tokenizer = AutoTokenizer.from_pretrained(tokenizer_name)\n",
    "\n",
    "#tokenizer helper function\n",
    "def tokenize(batch):\n",
    "    return tokenizer(batch['text'], padding='max_length', truncation=True)\n",
    "\n",
    "# load dataset\n",
    "train_dataset, test_dataset = load_dataset('imdb', split=['train', 'test'])\n",
    "test_dataset = test_dataset.shuffle().select(range(10000))"
   ]
  },
  {
   "cell_type": "markdown",
   "id": "87308b87-468e-4c74-8180-3f4a7ab41ecb",
   "metadata": {
    "tags": []
   },
   "source": [
    "Tokenize the data"
   ]
  },
  {
   "cell_type": "code",
   "execution_count": 10,
   "id": "6c1db47c-84b0-417c-bf0e-4e597275b897",
   "metadata": {
    "tags": []
   },
   "outputs": [
    {
     "name": "stderr",
     "output_type": "stream",
     "text": [
      "Loading cached processed dataset at /root/.cache/huggingface/datasets/imdb/plain_text/1.0.0/2fdd8b9bcadd6e7055e742a706876ba43f19faee861df134affd7a3f60fc38a1/cache-49cffa5c30057620.arrow\n"
     ]
    },
    {
     "data": {
      "application/vnd.jupyter.widget-view+json": {
       "model_id": "f0cb520749904871b0e02639ce46c029",
       "version_major": 2,
       "version_minor": 0
      },
      "text/plain": [
       "  0%|          | 0/1 [00:00<?, ?ba/s]"
      ]
     },
     "metadata": {},
     "output_type": "display_data"
    }
   ],
   "source": [
    "train_dataset = train_dataset.map(tokenize, batched=True, batch_size=len(train_dataset))\n",
    "test_dataset  = test_dataset.map(tokenize, batched=True, batch_size=len(test_dataset))"
   ]
  },
  {
   "cell_type": "markdown",
   "id": "e5c7580f-9311-46ea-be01-271a2c97f818",
   "metadata": {},
   "source": [
    "Convert to tensors"
   ]
  },
  {
   "cell_type": "code",
   "execution_count": 11,
   "id": "4234e852-b10a-43b5-8614-8fc516aa0e45",
   "metadata": {
    "tags": []
   },
   "outputs": [],
   "source": [
    "train_dataset = train_dataset.rename_column(\"label\", \"labels\")\n",
    "train_dataset.set_format(type=\"torch\", columns=[\"input_ids\", \"attention_mask\", \"labels\"])\n",
    "test_dataset = test_dataset.rename_column(\"label\", \"labels\")\n",
    "test_dataset.set_format(type=\"torch\", columns=[\"input_ids\", \"attention_mask\", \"labels\"])"
   ]
  },
  {
   "cell_type": "markdown",
   "id": "922f13f3-ee56-4649-a58c-5c0744a2b8c1",
   "metadata": {},
   "source": [
    "Upload data to S3 using the 'save_to_disk' Datasets method"
   ]
  },
  {
   "cell_type": "code",
   "execution_count": 12,
   "id": "bc350291-7908-4197-9ef3-f07aed4640d6",
   "metadata": {
    "tags": []
   },
   "outputs": [
    {
     "name": "stdout",
     "output_type": "stream",
     "text": [
      "train_path: s3://sagemaker-us-east-1-264639154954/samples/datasets/imdb/train\n",
      "test_path: s3://sagemaker-us-east-1-264639154954/samples/datasets/imdb/test\n"
     ]
    }
   ],
   "source": [
    "s3 = s3fs.S3FileSystem()\n",
    "\n",
    "training_input_path = f\"s3://{session.default_bucket()}/{s3_prefix}/train\"\n",
    "train_dataset.save_to_disk(training_input_path, fs=s3)\n",
    "\n",
    "test_input_path = f\"s3://{session.default_bucket()}/{s3_prefix}/test\"\n",
    "test_dataset.save_to_disk(test_input_path, fs=s3)\n",
    "\n",
    "print(f\"train_path: {training_input_path}\")\n",
    "print(f\"test_path: {test_input_path}\")"
   ]
  },
  {
   "cell_type": "markdown",
   "id": "e6037c93-a386-4f24-9595-944a29a9bdd1",
   "metadata": {},
   "source": [
    "## Hyperparameter tuning"
   ]
  },
  {
   "cell_type": "markdown",
   "id": "8547d8df-a0ba-4b09-9ab4-b7c86918260d",
   "metadata": {},
   "source": [
    "Set hyperparamter values that are passed to the estimtor, but we are not seeking to tune."
   ]
  },
  {
   "cell_type": "code",
   "execution_count": 13,
   "id": "2be007fc-13cf-4da3-abb7-72421d69d943",
   "metadata": {
    "tags": []
   },
   "outputs": [],
   "source": [
    "hyperparameters = {\"epochs\": 2,\n",
    "                   \"train_batch_size\": 16,\n",
    "                   \"model_name\": \"distilbert-base-uncased\"\n",
    "                  }"
   ]
  },
  {
   "cell_type": "markdown",
   "id": "bf3e435d-9f37-4235-82b6-c6b6b9eea224",
   "metadata": {
    "tags": []
   },
   "source": [
    "## Configure HuggingFace estimator"
   ]
  },
  {
   "cell_type": "code",
   "execution_count": 15,
   "id": "60069a32-535a-4e54-8754-421cc3db281e",
   "metadata": {
    "tags": []
   },
   "outputs": [],
   "source": [
    "# tags very useful in multi-user accounts for tracking key information\n",
    "TAGS = [{\"Key\": \"Owner\", \"Value\": \"ccooney@aflac.com\"},\n",
    "        {\"Key\": \"Environment\", \"Value\": \"Dev\"}]"
   ]
  },
  {
   "cell_type": "markdown",
   "id": "c618537e-9389-41b2-b3f8-9783cd46e508",
   "metadata": {},
   "source": [
    "SageMaker has a specific estimator for use with HuggingFace (https://sagemaker.readthedocs.io/en/stable/frameworks/huggingface/sagemaker.huggingface.html)\n",
    "\n",
    "It requires a python script to be passed (this is the main training script for your model). Other important parameters include instance type and package versioning."
   ]
  },
  {
   "cell_type": "code",
   "execution_count": 34,
   "id": "d8981f89-d893-4935-ad7a-6df08054a556",
   "metadata": {
    "tags": []
   },
   "outputs": [],
   "source": [
    "huggingface_estimator = HuggingFace(entry_point='training_script.py',\n",
    "                                    source_dir='./scripts',\n",
    "                                    sagemaker_session=session,\n",
    "                                    instance_type='ml.p3.2xlarge',\n",
    "                                    instance_count=1,\n",
    "                                    role=role,\n",
    "                                    transformers_version='4.12',\n",
    "                                    py_version='py38',\n",
    "                                    pytorch_version='1.9',\n",
    "                                    hyperparameters=hyperparameters,\n",
    "                                    base_job_name='hpo-HF')"
   ]
  },
  {
   "cell_type": "markdown",
   "id": "75a1aaba-d091-4254-a6ce-6ad38366b80d",
   "metadata": {},
   "source": [
    "## Initialize hyperparameter ranges and the metric for evaluating model performance.\n",
    "\n",
    "There are many hyperparameters that can be tuned the selection with largely be dependent on the type of model you are working with.\n",
    "\n",
    "The SageMaker SDK enables setting of hyperparameter ranges through the ContinuousParameter, IntegerParameter, and CategoricalParameter methods.\n",
    "\n",
    "Here, I am using all CategoricalParameters to demonstrate the 'Random' strategy for tuning. (See hyperparameter_tuning.ipynb for 'Bayesian')\n",
    "\n",
    "Look at the arguments being parsed in huggingface_trainer.py to see some other hyperparameters that could be tuned."
   ]
  },
  {
   "cell_type": "code",
   "execution_count": 120,
   "id": "155487b7-7951-477f-9d4f-4fd7b2218258",
   "metadata": {
    "tags": []
   },
   "outputs": [],
   "source": [
    "hyperparameter_ranges = {\"learning_rate\": CategoricalParameter([0.001, 0.00001]),\n",
    "                         \"warmup_steps\": CategoricalParameter([200, 400]),\n",
    "                         \"lr_scheduler_type\": CategoricalParameter([\"linear\", \"cosine\"]),}\n",
    "\n",
    "objective_metric = \"loss\"\n",
    "objective_type = \"Minimize\"\n",
    "metric_definitions = [{\"Name\": \"loss\", \"Regex\": \"loss = ([0-9\\\\.]+)\"}]"
   ]
  },
  {
   "cell_type": "markdown",
   "id": "3b13841e-065f-405a-923f-6ddf9a149776",
   "metadata": {},
   "source": [
    "## Configure tuner\n",
    "Pass the estimator, as well as the objective metric and the hyperparameter ranges we want to tune.\n",
    "It is also possible to define the optimization strategy as 'Bayesian' | 'Random' | 'Hyperband' | 'Grid' (https://docs.aws.amazon.com/sagemaker/latest/APIReference/API_HyperParameterTuningJobConfig.html) - Here, we go with the Random approach."
   ]
  },
  {
   "cell_type": "code",
   "execution_count": 122,
   "id": "94c127f1-3dc2-4efd-9328-fa359dc3ca2d",
   "metadata": {
    "tags": []
   },
   "outputs": [],
   "source": [
    "tuner = HyperparameterTuner(\n",
    "    huggingface_estimator,\n",
    "    objective_metric,\n",
    "    hyperparameter_ranges,\n",
    "    metric_definitions,\n",
    "    max_jobs=8,\n",
    "    max_parallel_jobs=2,\n",
    "    objective_type=objective_type,\n",
    "    strategy=\"Random\",\n",
    "    tags=TAGS,\n",
    "    base_tuning_job_name=\"hpo-HF\",\n",
    ")"
   ]
  },
  {
   "cell_type": "code",
   "execution_count": 123,
   "id": "3ffa4f5d-6942-4ac1-9403-4f658559dc7f",
   "metadata": {
    "tags": []
   },
   "outputs": [
    {
     "name": "stderr",
     "output_type": "stream",
     "text": [
      "No finished training job found associated with this estimator. Please make sure this estimator is only used for building workflow config\n"
     ]
    },
    {
     "name": "stdout",
     "output_type": "stream",
     "text": [
      "..................................................................................................................................................................................................................................................................................................................................................................................................................................................................................................................................................................................................................................................................................................................................................................................................................................................................................................................................................!\n"
     ]
    }
   ],
   "source": [
    "tuner.fit(inputs={\"train\": training_input_path, \"test\": test_input_path})"
   ]
  },
  {
   "cell_type": "markdown",
   "id": "565c5952-b915-4143-9579-f254335b172d",
   "metadata": {},
   "source": [
    "## Evaluate the results"
   ]
  },
  {
   "cell_type": "markdown",
   "id": "1d482a19-6bc0-4257-b2dd-c3a3b19f5730",
   "metadata": {},
   "source": [
    "tuner.describe() prints details of the tuning job we created\n",
    "\n",
    "Here, learning rate is clearly the most important hyperparameter to get right.\n",
    "\n",
    "You may also notice the difference in how the tuning job is performed by 'Random' in comparison with 'Bayesian'"
   ]
  },
  {
   "cell_type": "code",
   "execution_count": 124,
   "id": "a53dee98-3e91-4ac0-8ade-75aad95b824b",
   "metadata": {
    "tags": []
   },
   "outputs": [
    {
     "data": {
      "text/html": [
       "<div>\n",
       "<style scoped>\n",
       "    .dataframe tbody tr th:only-of-type {\n",
       "        vertical-align: middle;\n",
       "    }\n",
       "\n",
       "    .dataframe tbody tr th {\n",
       "        vertical-align: top;\n",
       "    }\n",
       "\n",
       "    .dataframe thead th {\n",
       "        text-align: right;\n",
       "    }\n",
       "</style>\n",
       "<table border=\"1\" class=\"dataframe\">\n",
       "  <thead>\n",
       "    <tr style=\"text-align: right;\">\n",
       "      <th></th>\n",
       "      <th>learning_rate</th>\n",
       "      <th>lr_scheduler_type</th>\n",
       "      <th>warmup_steps</th>\n",
       "      <th>TrainingJobName</th>\n",
       "      <th>TrainingJobStatus</th>\n",
       "      <th>FinalObjectiveValue</th>\n",
       "      <th>TrainingStartTime</th>\n",
       "      <th>TrainingEndTime</th>\n",
       "      <th>TrainingElapsedTimeSeconds</th>\n",
       "    </tr>\n",
       "  </thead>\n",
       "  <tbody>\n",
       "    <tr>\n",
       "      <th>6</th>\n",
       "      <td>\"1e-05\"</td>\n",
       "      <td>\"cosine\"</td>\n",
       "      <td>\"400\"</td>\n",
       "      <td>hpo-HF-230125-1147-002-793ad2dd</td>\n",
       "      <td>Completed</td>\n",
       "      <td>0.001788</td>\n",
       "      <td>2023-01-25 11:49:06+00:00</td>\n",
       "      <td>2023-01-25 12:10:23+00:00</td>\n",
       "      <td>1277.0</td>\n",
       "    </tr>\n",
       "    <tr>\n",
       "      <th>0</th>\n",
       "      <td>\"1e-05\"</td>\n",
       "      <td>\"cosine\"</td>\n",
       "      <td>\"200\"</td>\n",
       "      <td>hpo-HF-230125-1147-008-1d4e1504</td>\n",
       "      <td>Completed</td>\n",
       "      <td>0.001792</td>\n",
       "      <td>2023-01-25 12:47:14+00:00</td>\n",
       "      <td>2023-01-25 13:04:14+00:00</td>\n",
       "      <td>1020.0</td>\n",
       "    </tr>\n",
       "    <tr>\n",
       "      <th>2</th>\n",
       "      <td>\"1e-05\"</td>\n",
       "      <td>\"linear\"</td>\n",
       "      <td>\"200\"</td>\n",
       "      <td>hpo-HF-230125-1147-006-ee5dcbe5</td>\n",
       "      <td>Completed</td>\n",
       "      <td>0.001797</td>\n",
       "      <td>2023-01-25 12:29:49+00:00</td>\n",
       "      <td>2023-01-25 12:46:49+00:00</td>\n",
       "      <td>1020.0</td>\n",
       "    </tr>\n",
       "    <tr>\n",
       "      <th>4</th>\n",
       "      <td>\"1e-05\"</td>\n",
       "      <td>\"linear\"</td>\n",
       "      <td>\"400\"</td>\n",
       "      <td>hpo-HF-230125-1147-004-390b2a6b</td>\n",
       "      <td>Completed</td>\n",
       "      <td>0.001804</td>\n",
       "      <td>2023-01-25 12:12:25+00:00</td>\n",
       "      <td>2023-01-25 12:29:25+00:00</td>\n",
       "      <td>1020.0</td>\n",
       "    </tr>\n",
       "    <tr>\n",
       "      <th>3</th>\n",
       "      <td>\"0.001\"</td>\n",
       "      <td>\"linear\"</td>\n",
       "      <td>\"200\"</td>\n",
       "      <td>hpo-HF-230125-1147-005-bbad7cf6</td>\n",
       "      <td>Completed</td>\n",
       "      <td>0.006931</td>\n",
       "      <td>2023-01-25 12:29:47+00:00</td>\n",
       "      <td>2023-01-25 12:46:48+00:00</td>\n",
       "      <td>1021.0</td>\n",
       "    </tr>\n",
       "    <tr>\n",
       "      <th>1</th>\n",
       "      <td>\"0.001\"</td>\n",
       "      <td>\"cosine\"</td>\n",
       "      <td>\"200\"</td>\n",
       "      <td>hpo-HF-230125-1147-007-db54aac5</td>\n",
       "      <td>Completed</td>\n",
       "      <td>0.006931</td>\n",
       "      <td>2023-01-25 12:47:13+00:00</td>\n",
       "      <td>2023-01-25 13:04:18+00:00</td>\n",
       "      <td>1025.0</td>\n",
       "    </tr>\n",
       "    <tr>\n",
       "      <th>5</th>\n",
       "      <td>\"0.001\"</td>\n",
       "      <td>\"linear\"</td>\n",
       "      <td>\"400\"</td>\n",
       "      <td>hpo-HF-230125-1147-003-044cf748</td>\n",
       "      <td>Completed</td>\n",
       "      <td>0.006932</td>\n",
       "      <td>2023-01-25 12:12:23+00:00</td>\n",
       "      <td>2023-01-25 12:29:23+00:00</td>\n",
       "      <td>1020.0</td>\n",
       "    </tr>\n",
       "    <tr>\n",
       "      <th>7</th>\n",
       "      <td>\"0.001\"</td>\n",
       "      <td>\"cosine\"</td>\n",
       "      <td>\"400\"</td>\n",
       "      <td>hpo-HF-230125-1147-001-087bdf05</td>\n",
       "      <td>Completed</td>\n",
       "      <td>0.006932</td>\n",
       "      <td>2023-01-25 11:49:21+00:00</td>\n",
       "      <td>2023-01-25 12:10:13+00:00</td>\n",
       "      <td>1252.0</td>\n",
       "    </tr>\n",
       "  </tbody>\n",
       "</table>\n",
       "</div>"
      ],
      "text/plain": [
       "  learning_rate lr_scheduler_type warmup_steps  \\\n",
       "6       \"1e-05\"          \"cosine\"        \"400\"   \n",
       "0       \"1e-05\"          \"cosine\"        \"200\"   \n",
       "2       \"1e-05\"          \"linear\"        \"200\"   \n",
       "4       \"1e-05\"          \"linear\"        \"400\"   \n",
       "3       \"0.001\"          \"linear\"        \"200\"   \n",
       "1       \"0.001\"          \"cosine\"        \"200\"   \n",
       "5       \"0.001\"          \"linear\"        \"400\"   \n",
       "7       \"0.001\"          \"cosine\"        \"400\"   \n",
       "\n",
       "                   TrainingJobName TrainingJobStatus  FinalObjectiveValue  \\\n",
       "6  hpo-HF-230125-1147-002-793ad2dd         Completed             0.001788   \n",
       "0  hpo-HF-230125-1147-008-1d4e1504         Completed             0.001792   \n",
       "2  hpo-HF-230125-1147-006-ee5dcbe5         Completed             0.001797   \n",
       "4  hpo-HF-230125-1147-004-390b2a6b         Completed             0.001804   \n",
       "3  hpo-HF-230125-1147-005-bbad7cf6         Completed             0.006931   \n",
       "1  hpo-HF-230125-1147-007-db54aac5         Completed             0.006931   \n",
       "5  hpo-HF-230125-1147-003-044cf748         Completed             0.006932   \n",
       "7  hpo-HF-230125-1147-001-087bdf05         Completed             0.006932   \n",
       "\n",
       "          TrainingStartTime           TrainingEndTime  \\\n",
       "6 2023-01-25 11:49:06+00:00 2023-01-25 12:10:23+00:00   \n",
       "0 2023-01-25 12:47:14+00:00 2023-01-25 13:04:14+00:00   \n",
       "2 2023-01-25 12:29:49+00:00 2023-01-25 12:46:49+00:00   \n",
       "4 2023-01-25 12:12:25+00:00 2023-01-25 12:29:25+00:00   \n",
       "3 2023-01-25 12:29:47+00:00 2023-01-25 12:46:48+00:00   \n",
       "1 2023-01-25 12:47:13+00:00 2023-01-25 13:04:18+00:00   \n",
       "5 2023-01-25 12:12:23+00:00 2023-01-25 12:29:23+00:00   \n",
       "7 2023-01-25 11:49:21+00:00 2023-01-25 12:10:13+00:00   \n",
       "\n",
       "   TrainingElapsedTimeSeconds  \n",
       "6                      1277.0  \n",
       "0                      1020.0  \n",
       "2                      1020.0  \n",
       "4                      1020.0  \n",
       "3                      1021.0  \n",
       "1                      1025.0  \n",
       "5                      1020.0  \n",
       "7                      1252.0  "
      ]
     },
     "execution_count": 124,
     "metadata": {},
     "output_type": "execute_result"
    }
   ],
   "source": [
    "results_df = tuner.analytics().dataframe()\n",
    "results_df.sort_values('FinalObjectiveValue')"
   ]
  },
  {
   "cell_type": "code",
   "execution_count": 129,
   "id": "97288930-e20d-4304-915c-349808c27395",
   "metadata": {
    "tags": []
   },
   "outputs": [
    {
     "name": "stdout",
     "output_type": "stream",
     "text": [
      "best score: 0.001787555986084044\n",
      "best params: {'learning_rate': '\"1e-05\"', 'lr_scheduler_type': '\"cosine\"', 'warmup_steps': '\"400\"'}\n",
      "best job-name: hpo-HF-230125-1147-002-793ad2dd\n"
     ]
    }
   ],
   "source": [
    "summarize_hpo_results(tuner.latest_tuning_job.job_name)"
   ]
  },
  {
   "cell_type": "markdown",
   "id": "d97afe3b-c9d5-46ee-b43b-4655bc2b59fe",
   "metadata": {},
   "source": [
    "Select the best tuned model for deploying and making predictions"
   ]
  },
  {
   "cell_type": "code",
   "execution_count": 130,
   "id": "24914a39-ee36-4422-86f4-c4eb6c248512",
   "metadata": {
    "tags": []
   },
   "outputs": [
    {
     "name": "stdout",
     "output_type": "stream",
     "text": [
      "\n",
      "2023-01-25 12:12:24 Starting - Preparing the instances for training\n",
      "2023-01-25 12:12:24 Downloading - Downloading input data\n",
      "2023-01-25 12:12:24 Training - Training image download completed. Training in progress.\n",
      "2023-01-25 12:12:24 Uploading - Uploading generated training model\n",
      "2023-01-25 12:12:24 Completed - Resource reused by training job: hpo-HF-230125-1147-004-390b2a6b\n"
     ]
    }
   ],
   "source": [
    "best_estimator = tuner.best_estimator()"
   ]
  },
  {
   "cell_type": "code",
   "execution_count": 131,
   "id": "e9ef982d-a80b-4612-b5c2-6f493c69b41b",
   "metadata": {
    "tags": []
   },
   "outputs": [
    {
     "name": "stdout",
     "output_type": "stream",
     "text": [
      "-----------!"
     ]
    }
   ],
   "source": [
    "predictor = best_estimator.deploy(1, \"ml.g4dn.xlarge\")"
   ]
  },
  {
   "cell_type": "markdown",
   "id": "42041662-0870-4a84-9075-73fb8a2af35a",
   "metadata": {},
   "source": [
    "Use your deployed model to make predictions"
   ]
  },
  {
   "cell_type": "code",
   "execution_count": 132,
   "id": "ff469152-8f5d-4e9b-9c82-d55212514364",
   "metadata": {
    "tags": []
   },
   "outputs": [
    {
     "data": {
      "text/plain": [
       "[{'label': 'LABEL_1', 'score': 0.8847560286521912}]"
      ]
     },
     "execution_count": 132,
     "metadata": {},
     "output_type": "execute_result"
    }
   ],
   "source": [
    "result = predictor.predict({\"inputs\": \"I watched this movie last night. At first I thought it was going to be truely awful, but in the end I have to admit I really enjoyed it and would recomment it to friends.\"})\n",
    "result"
   ]
  },
  {
   "cell_type": "code",
   "execution_count": 133,
   "id": "5ba5991f-5f60-4633-a9eb-1d17605ec55b",
   "metadata": {
    "tags": []
   },
   "outputs": [
    {
     "name": "stdout",
     "output_type": "stream",
     "text": [
      "Result: positive\n"
     ]
    }
   ],
   "source": [
    "classes = [\"negative\", \"positive\"]\n",
    "id2label = {f\"LABEL_{v}\": k for v, k in enumerate(classes)}\n",
    "\n",
    "print(f\"Result: {id2label[result[0]['label']]}\")"
   ]
  },
  {
   "cell_type": "markdown",
   "id": "7065b509-d43f-4aea-b366-4fe48ce7f680",
   "metadata": {},
   "source": [
    "negative but with low confidence"
   ]
  },
  {
   "cell_type": "code",
   "execution_count": 135,
   "id": "f83c9f5a-29c5-44b8-9a3d-3ae6cc9a5511",
   "metadata": {
    "tags": []
   },
   "outputs": [
    {
     "data": {
      "text/plain": [
       "[{'label': 'LABEL_0', 'score': 0.6395813822746277}]"
      ]
     },
     "execution_count": 135,
     "metadata": {},
     "output_type": "execute_result"
    }
   ],
   "source": [
    "result = predictor.predict({\"inputs\": \"I have no opinion in this.\"})\n",
    "result"
   ]
  },
  {
   "cell_type": "code",
   "execution_count": 136,
   "id": "51d11083-f2a5-49e8-81ac-682edd56b246",
   "metadata": {
    "tags": []
   },
   "outputs": [],
   "source": [
    "predictor.delete_endpoint()"
   ]
  }
 ],
 "metadata": {
  "instance_type": "ml.g4dn.xlarge",
  "kernelspec": {
   "display_name": "Python 3 (PyTorch 1.8 Python 3.6 GPU Optimized)",
   "language": "python",
   "name": "python3__SAGEMAKER_INTERNAL__arn:aws:sagemaker:us-east-1:081325390199:image/pytorch-1.8-gpu-py36"
  },
  "language_info": {
   "codemirror_mode": {
    "name": "ipython",
    "version": 3
   },
   "file_extension": ".py",
   "mimetype": "text/x-python",
   "name": "python",
   "nbconvert_exporter": "python",
   "pygments_lexer": "ipython3",
   "version": "3.6.13"
  }
 },
 "nbformat": 4,
 "nbformat_minor": 5
}
