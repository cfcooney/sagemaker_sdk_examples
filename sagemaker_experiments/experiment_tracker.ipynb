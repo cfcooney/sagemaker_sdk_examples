{
 "cells": [
  {
   "cell_type": "markdown",
   "metadata": {},
   "source": [
    "## Use SageMaker experiments to track results of model training"
   ]
  },
  {
   "cell_type": "code",
   "execution_count": 57,
   "metadata": {},
   "outputs": [],
   "source": [
    "import sys"
   ]
  },
  {
   "cell_type": "code",
   "execution_count": 2,
   "metadata": {},
   "outputs": [],
   "source": [
    "#!{sys.executable} -m pip install sagemaker-experiments\n",
    "#!{sys.executable} -m pip install torch\n",
    "#!{sys.executable} -m pip install sagemaker"
   ]
  },
  {
   "cell_type": "code",
   "execution_count": null,
   "metadata": {},
   "outputs": [],
   "source": [
    "import time\n",
    "import boto3\n",
    "import numpy as np\n",
    "import pandas as pd\n",
    "%config InlineBackend.figure_format = \"retina\" # svg, eps, png, pdf\n",
    "from matplotlib import pyplot as plt\n",
    "from torchvision import datasets, transforms\n",
    "\n",
    "import sagemaker\n",
    "from sagemaker.session import Session\n",
    "from sagemaker.analytics import ExperimentAnalytics\n",
    "\n",
    "from smexperiments.experiment import Experiment\n",
    "from smexperiments.trial import Trial\n",
    "from smexperiments.trial_component import TrialComponent\n",
    "from smexperiments.tracker import Tracker"
   ]
  },
  {
   "cell_type": "code",
   "execution_count": null,
   "metadata": {},
   "outputs": [],
   "source": [
    "session = boto3.Session()\n",
    "sm = session.client('sagemaker')\n",
    "role = sagemaker.get_execution_role()"
   ]
  },
  {
   "cell_type": "code",
   "execution_count": null,
   "metadata": {},
   "outputs": [],
   "source": [
    "account_id = session.client('sts').get_caller_identity()[\"Account\"]\n",
    "bucket = f\"sagemaker-experiments-{session.region_name}-{account_id}\"\n",
    "prefix = \"mnist\"\n",
    "\n",
    "try:\n",
    "    if session.region_name == \"us-east-1\":\n",
    "        session.client('s3').create_bucket(Bucket=bucket)\n",
    "    else:\n",
    "        session.client('s3').create_bucket(Bucket=bucket,\n",
    "                                           CreateBucketConfiguration={'LocationConstraint':\n",
    "                                           session.region_name})\n",
    "except Exception as e:\n",
    "    print(e)"
   ]
  },
  {
   "cell_type": "code",
   "execution_count": null,
   "metadata": {},
   "outputs": [],
   "source": [
    "train_set = datasets.MNIST('mnist', train=True, transform=transforms.Compose([\n",
    "    transforms.toTensor(),\n",
    "    transforms.Normalize((0.1307,), (0.3081,))]),\n",
    "download=True)\n",
    "\n",
    "test_set = datasets.MNIST('mnist', train=False, transform=transforms.Compose([\n",
    "    transforms.ToTensor(),\n",
    "    transforms.Normalize((0.1307,), (0.3081,))]),\n",
    "download=False)"
   ]
  },
  {
   "cell_type": "code",
   "execution_count": 54,
   "metadata": {
    "tags": []
   },
   "outputs": [
    {
     "data": {
      "text/plain": [
       "Dataset MNIST\n",
       "    Number of datapoints: 60000\n",
       "    Root location: mnist\n",
       "    Split: Train\n",
       "    StandardTransform\n",
       "Transform: Compose(\n",
       "               ToTensor()\n",
       "               Normalize(mean=(0.1307,), std=(0.3081,))\n",
       "           )"
      ]
     },
     "execution_count": 54,
     "metadata": {},
     "output_type": "execute_result"
    }
   ],
   "source": [
    "train_set"
   ]
  },
  {
   "cell_type": "code",
   "execution_count": null,
   "metadata": {},
   "outputs": [],
   "source": [
    "plt.imshow(train_set.data[2].numpy())"
   ]
  },
  {
   "cell_type": "markdown",
   "metadata": {},
   "source": [
    "# Upload Data to S3"
   ]
  },
  {
   "cell_type": "code",
   "execution_count": 55,
   "metadata": {
    "tags": []
   },
   "outputs": [
    {
     "name": "stdout",
     "output_type": "stream",
     "text": [
      "Input location: s3://sagemaker-experiments-us-east-1-264639154954/mnist\n"
     ]
    }
   ],
   "source": [
    "inputs = sagemaker.Session().upload_data(path='mnist', bucket=bucket, key_prefix=prefix)\n",
    "print(f\"Input location: {inputs}\")"
   ]
  },
  {
   "cell_type": "markdown",
   "metadata": {},
   "source": [
    "Now lets track the parameters from the data pre-processing step\n",
    "\n",
    "This is a way to log preprocessing steps"
   ]
  },
  {
   "cell_type": "code",
   "execution_count": 110,
   "metadata": {},
   "outputs": [],
   "source": [
    "with Tracker.create(display_name=\"Preprocessing\", sagemaker_boto_client=sm) as tracker:\n",
    "    tracker.log_parameters({\n",
    "        \"normalization_mean\": 0.1307,\n",
    "        \"normalization_std\": 0.3081,\n",
    "    })\n",
    "\n",
    "tracker.log_input(name=\"mnist-dataset\", media_type=\"s3/uri\", value=inputs)"
   ]
  },
  {
   "cell_type": "markdown",
   "metadata": {},
   "source": [
    "### Step 1 - Set up the Experiment\n",
    "\n",
    "Create an experiment to track all the model training iterations. Experiments are a great way to organize your data science work. You can create experiments to organize all your model development work for: [1] A business use case you are addressing (e.g. create experiment named \"customer churn prediction\"), or [2] A data science team that owns the experiment (e.g. create experiment named \"marketig analytics experiment\"), or [3] A specific data science and ML project. Think of it as a \"folder\" for organizing your \"files\"."
   ]
  },
  {
   "cell_type": "markdown",
   "metadata": {},
   "source": [
    "### Create an Experiment - remember to refresh these each time you want to run a new experiment"
   ]
  },
  {
   "cell_type": "code",
   "execution_count": 123,
   "metadata": {},
   "outputs": [
    {
     "name": "stdout",
     "output_type": "stream",
     "text": [
      "Experiment(sagemaker_boto_client=<botocore.client.SageMaker object at 0x7f623a5b0390>,experiment_name='mnist-hand-written-digits-classification-1674927402',description='Classification of mnist hand-written digits',tags=None,experiment_arn='arn:aws:sagemaker:us-east-1:264639154954:experiment/mnist-hand-written-digits-classification-1674927402',response_metadata={'RequestId': '56068477-cbde-456c-9e17-41b233ee13f3', 'HTTPStatusCode': 200, 'HTTPHeaders': {'x-amzn-requestid': '56068477-cbde-456c-9e17-41b233ee13f3', 'content-type': 'application/x-amz-json-1.1', 'content-length': '123', 'date': 'Sat, 28 Jan 2023 17:36:41 GMT'}, 'RetryAttempts': 0})\n"
     ]
    }
   ],
   "source": [
    "mnist_experiment = Experiment.create(\n",
    "    experiment_name=f\"mnist-hand-written-digits-classification-{int(time.time())}\",\n",
    "    description=\"Classification of mnist hand-written digits\",\n",
    "    sagemaker_boto_client=sm\n",
    ")\n",
    "print(mnist_experiment)"
   ]
  },
  {
   "cell_type": "markdown",
   "metadata": {},
   "source": [
    "### Step 2 - Track Experiment\n",
    "### Now create a Trial for each training run to track the inputs, parameters and metrics.\n",
    "\n",
    "While training the CNN model on Sagemaker, we will experiment with several values fo the number of hidden channels in the model. We will create a Trial to track each training job run. We will also create a TrialComponent from the tracker we created before, and add to the Trial. This will enrich the trial with the parameters we captured from the data pre-preocessing stage.\n",
    "\n",
    "Note the execution of the following code takes a while"
   ]
  },
  {
   "cell_type": "code",
   "execution_count": 124,
   "metadata": {},
   "outputs": [],
   "source": [
    "from sagemaker.pytorch import PyTorch\n",
    "\n",
    "hidden_channel_trial_name_map = {}"
   ]
  },
  {
   "cell_type": "markdown",
   "metadata": {},
   "source": [
    "If you want to run the following training jobs asynchronously, you may need to increase your resource limit. Otherwise, you can run them sequentially."
   ]
  },
  {
   "cell_type": "code",
   "execution_count": 125,
   "metadata": {},
   "outputs": [],
   "source": [
    "preprocessing_trial_component = tracker.trial_component"
   ]
  },
  {
   "cell_type": "markdown",
   "metadata": {},
   "source": [
    "### Be careful to ensure that the metric definition regex matches what you are logging in your training script"
   ]
  },
  {
   "cell_type": "code",
   "execution_count": 126,
   "metadata": {
    "tags": []
   },
   "outputs": [
    {
     "name": "stderr",
     "output_type": "stream",
     "text": [
      "INFO:sagemaker.image_uris:Defaulting to the only supported framework/algorithm version: latest.\n",
      "INFO:sagemaker.image_uris:Ignoring unnecessary instance type: None.\n",
      "INFO:sagemaker:Creating training-job with name: cnn-training-job-1674927404\n"
     ]
    },
    {
     "name": "stdout",
     "output_type": "stream",
     "text": [
      "2023-01-28 17:36:44 Starting - Starting the training job...\n",
      "2023-01-28 17:37:11 Starting - Preparing the instances for trainingProfilerReport-1674927404: InProgress\n",
      ".........\n",
      "2023-01-28 17:38:29 Downloading - Downloading input data...\n",
      "2023-01-28 17:39:09 Training - Downloading the training image...\n",
      "2023-01-28 17:39:30 Training - Training image download completed. Training in progress.\u001b[34mbash: cannot set terminal process group (-1): Inappropriate ioctl for device\u001b[0m\n",
      "\u001b[34mbash: no job control in this shell\u001b[0m\n",
      "\u001b[34m2023-01-28 17:39:37,429 sagemaker-training-toolkit INFO     Imported framework sagemaker_pytorch_container.training\u001b[0m\n",
      "\u001b[34m2023-01-28 17:39:37,431 sagemaker-training-toolkit INFO     No GPUs detected (normal if no gpus installed)\u001b[0m\n",
      "\u001b[34m2023-01-28 17:39:37,442 sagemaker_pytorch_container.training INFO     Block until all host DNS lookups succeed.\u001b[0m\n",
      "\u001b[34m2023-01-28 17:39:37,444 sagemaker_pytorch_container.training INFO     Invoking user training script.\u001b[0m\n",
      "\u001b[34m2023-01-28 17:39:37,595 sagemaker-training-toolkit INFO     No GPUs detected (normal if no gpus installed)\u001b[0m\n",
      "\u001b[34m2023-01-28 17:39:37,608 sagemaker-training-toolkit INFO     No GPUs detected (normal if no gpus installed)\u001b[0m\n",
      "\u001b[34m2023-01-28 17:39:37,621 sagemaker-training-toolkit INFO     No GPUs detected (normal if no gpus installed)\u001b[0m\n",
      "\u001b[34m2023-01-28 17:39:37,633 sagemaker-training-toolkit INFO     Invoking user script\u001b[0m\n",
      "\u001b[34mTraining Env:\u001b[0m\n",
      "\u001b[34m{\n",
      "    \"additional_framework_parameters\": {},\n",
      "    \"channel_input_dirs\": {\n",
      "        \"training\": \"/opt/ml/input/data/training\"\n",
      "    },\n",
      "    \"current_host\": \"algo-1\",\n",
      "    \"framework_module\": \"sagemaker_pytorch_container.training:main\",\n",
      "    \"hosts\": [\n",
      "        \"algo-1\"\n",
      "    ],\n",
      "    \"hyperparameters\": {\n",
      "        \"backend\": \"gloo\",\n",
      "        \"dropout\": 0.2,\n",
      "        \"epochs\": 2,\n",
      "        \"hidden_units\": 50\n",
      "    },\n",
      "    \"input_config_dir\": \"/opt/ml/input/config\",\n",
      "    \"input_data_config\": {\n",
      "        \"training\": {\n",
      "            \"TrainingInputMode\": \"File\",\n",
      "            \"S3DistributionType\": \"FullyReplicated\",\n",
      "            \"RecordWrapperType\": \"None\"\n",
      "        }\n",
      "    },\n",
      "    \"input_dir\": \"/opt/ml/input\",\n",
      "    \"is_master\": true,\n",
      "    \"job_name\": \"cnn-training-job-1674927404\",\n",
      "    \"log_level\": 20,\n",
      "    \"master_hostname\": \"algo-1\",\n",
      "    \"model_dir\": \"/opt/ml/model\",\n",
      "    \"module_dir\": \"s3://sagemaker-us-east-1-264639154954/cnn-training-job-1674927404/source/sourcedir.tar.gz\",\n",
      "    \"module_name\": \"mnist\",\n",
      "    \"network_interface_name\": \"eth0\",\n",
      "    \"num_cpus\": 4,\n",
      "    \"num_gpus\": 0,\n",
      "    \"output_data_dir\": \"/opt/ml/output/data\",\n",
      "    \"output_dir\": \"/opt/ml/output\",\n",
      "    \"output_intermediate_dir\": \"/opt/ml/output/intermediate\",\n",
      "    \"resource_config\": {\n",
      "        \"current_host\": \"algo-1\",\n",
      "        \"current_instance_type\": \"ml.c4.xlarge\",\n",
      "        \"current_group_name\": \"homogeneousCluster\",\n",
      "        \"hosts\": [\n",
      "            \"algo-1\"\n",
      "        ],\n",
      "        \"instance_groups\": [\n",
      "            {\n",
      "                \"instance_group_name\": \"homogeneousCluster\",\n",
      "                \"instance_type\": \"ml.c4.xlarge\",\n",
      "                \"hosts\": [\n",
      "                    \"algo-1\"\n",
      "                ]\n",
      "            }\n",
      "        ],\n",
      "        \"network_interface_name\": \"eth0\"\n",
      "    },\n",
      "    \"user_entry_point\": \"mnist.py\"\u001b[0m\n",
      "\u001b[34m}\u001b[0m\n",
      "\u001b[34mEnvironment variables:\u001b[0m\n",
      "\u001b[34mSM_HOSTS=[\"algo-1\"]\u001b[0m\n",
      "\u001b[34mSM_NETWORK_INTERFACE_NAME=eth0\u001b[0m\n",
      "\u001b[34mSM_HPS={\"backend\":\"gloo\",\"dropout\":0.2,\"epochs\":2,\"hidden_units\":50}\u001b[0m\n",
      "\u001b[34mSM_USER_ENTRY_POINT=mnist.py\u001b[0m\n",
      "\u001b[34mSM_FRAMEWORK_PARAMS={}\u001b[0m\n",
      "\u001b[34mSM_RESOURCE_CONFIG={\"current_group_name\":\"homogeneousCluster\",\"current_host\":\"algo-1\",\"current_instance_type\":\"ml.c4.xlarge\",\"hosts\":[\"algo-1\"],\"instance_groups\":[{\"hosts\":[\"algo-1\"],\"instance_group_name\":\"homogeneousCluster\",\"instance_type\":\"ml.c4.xlarge\"}],\"network_interface_name\":\"eth0\"}\u001b[0m\n",
      "\u001b[34mSM_INPUT_DATA_CONFIG={\"training\":{\"RecordWrapperType\":\"None\",\"S3DistributionType\":\"FullyReplicated\",\"TrainingInputMode\":\"File\"}}\u001b[0m\n",
      "\u001b[34mSM_OUTPUT_DATA_DIR=/opt/ml/output/data\u001b[0m\n",
      "\u001b[34mSM_CHANNELS=[\"training\"]\u001b[0m\n",
      "\u001b[34mSM_CURRENT_HOST=algo-1\u001b[0m\n",
      "\u001b[34mSM_MODULE_NAME=mnist\u001b[0m\n",
      "\u001b[34mSM_LOG_LEVEL=20\u001b[0m\n",
      "\u001b[34mSM_FRAMEWORK_MODULE=sagemaker_pytorch_container.training:main\u001b[0m\n",
      "\u001b[34mSM_INPUT_DIR=/opt/ml/input\u001b[0m\n",
      "\u001b[34mSM_INPUT_CONFIG_DIR=/opt/ml/input/config\u001b[0m\n",
      "\u001b[34mSM_OUTPUT_DIR=/opt/ml/output\u001b[0m\n",
      "\u001b[34mSM_NUM_CPUS=4\u001b[0m\n",
      "\u001b[34mSM_NUM_GPUS=0\u001b[0m\n",
      "\u001b[34mSM_MODEL_DIR=/opt/ml/model\u001b[0m\n",
      "\u001b[34mSM_MODULE_DIR=s3://sagemaker-us-east-1-264639154954/cnn-training-job-1674927404/source/sourcedir.tar.gz\u001b[0m\n",
      "\u001b[34mSM_TRAINING_ENV={\"additional_framework_parameters\":{},\"channel_input_dirs\":{\"training\":\"/opt/ml/input/data/training\"},\"current_host\":\"algo-1\",\"framework_module\":\"sagemaker_pytorch_container.training:main\",\"hosts\":[\"algo-1\"],\"hyperparameters\":{\"backend\":\"gloo\",\"dropout\":0.2,\"epochs\":2,\"hidden_units\":50},\"input_config_dir\":\"/opt/ml/input/config\",\"input_data_config\":{\"training\":{\"RecordWrapperType\":\"None\",\"S3DistributionType\":\"FullyReplicated\",\"TrainingInputMode\":\"File\"}},\"input_dir\":\"/opt/ml/input\",\"is_master\":true,\"job_name\":\"cnn-training-job-1674927404\",\"log_level\":20,\"master_hostname\":\"algo-1\",\"model_dir\":\"/opt/ml/model\",\"module_dir\":\"s3://sagemaker-us-east-1-264639154954/cnn-training-job-1674927404/source/sourcedir.tar.gz\",\"module_name\":\"mnist\",\"network_interface_name\":\"eth0\",\"num_cpus\":4,\"num_gpus\":0,\"output_data_dir\":\"/opt/ml/output/data\",\"output_dir\":\"/opt/ml/output\",\"output_intermediate_dir\":\"/opt/ml/output/intermediate\",\"resource_config\":{\"current_group_name\":\"homogeneousCluster\",\"current_host\":\"algo-1\",\"current_instance_type\":\"ml.c4.xlarge\",\"hosts\":[\"algo-1\"],\"instance_groups\":[{\"hosts\":[\"algo-1\"],\"instance_group_name\":\"homogeneousCluster\",\"instance_type\":\"ml.c4.xlarge\"}],\"network_interface_name\":\"eth0\"},\"user_entry_point\":\"mnist.py\"}\u001b[0m\n",
      "\u001b[34mSM_USER_ARGS=[\"--backend\",\"gloo\",\"--dropout\",\"0.2\",\"--epochs\",\"2\",\"--hidden_units\",\"50\"]\u001b[0m\n",
      "\u001b[34mSM_OUTPUT_INTERMEDIATE_DIR=/opt/ml/output/intermediate\u001b[0m\n",
      "\u001b[34mSM_CHANNEL_TRAINING=/opt/ml/input/data/training\u001b[0m\n",
      "\u001b[34mSM_HP_BACKEND=gloo\u001b[0m\n",
      "\u001b[34mSM_HP_DROPOUT=0.2\u001b[0m\n",
      "\u001b[34mSM_HP_EPOCHS=2\u001b[0m\n",
      "\u001b[34mSM_HP_HIDDEN_UNITS=50\u001b[0m\n",
      "\u001b[34mPYTHONPATH=/opt/ml/code:/opt/conda/bin:/opt/conda/lib/python36.zip:/opt/conda/lib/python3.6:/opt/conda/lib/python3.6/lib-dynload:/opt/conda/lib/python3.6/site-packages\u001b[0m\n",
      "\u001b[34mInvoking script with the following command:\u001b[0m\n",
      "\u001b[34m/opt/conda/bin/python3.6 mnist.py --backend gloo --dropout 0.2 --epochs 2 --hidden_units 50\u001b[0m\n",
      "\u001b[34m01/28/2023 17:39:38 | __main__ | INFO: INSIDE MAIN\u001b[0m\n",
      "\u001b[34m01/28/2023 17:39:38 | __main__ | INFO: Getting train data loader - /opt/ml/input/data/training\u001b[0m\n",
      "\u001b[34m01/28/2023 17:39:38 | __main__ | INFO: Dataset Loaded\u001b[0m\n",
      "\u001b[34m01/28/2023 17:39:38 | __main__ | INFO: Getting test data loader\u001b[0m\n",
      "\u001b[34m[2023-01-28 17:39:38.349 algo-1:28 INFO utils.py:27] RULE_JOB_STOP_SIGNAL_FILENAME: None\u001b[0m\n",
      "\u001b[34m[2023-01-28 17:39:38.567 algo-1:28 INFO profiler_config_parser.py:102] User has disabled profiler.\u001b[0m\n",
      "\u001b[34m[2023-01-28 17:39:38.568 algo-1:28 INFO json_config.py:91] Creating hook from json_config at /opt/ml/input/config/debughookconfig.json.\u001b[0m\n",
      "\u001b[34m[2023-01-28 17:39:38.568 algo-1:28 INFO hook.py:199] tensorboard_dir has not been set for the hook. SMDebug will not be exporting tensorboard summaries.\u001b[0m\n",
      "\u001b[34m[2023-01-28 17:39:38.569 algo-1:28 INFO hook.py:253] Saving to /opt/ml/output/tensors\u001b[0m\n",
      "\u001b[34m[2023-01-28 17:39:38.569 algo-1:28 INFO state_store.py:77] The checkpoint config file /opt/ml/input/config/checkpointconfig.json does not exist.\u001b[0m\n",
      "\u001b[34m[2023-01-28 17:39:38.587 algo-1:28 INFO hook.py:584] name:module.conv1.weight count_params:250\u001b[0m\n",
      "\u001b[34m[2023-01-28 17:39:38.587 algo-1:28 INFO hook.py:584] name:module.conv1.bias count_params:10\u001b[0m\n",
      "\u001b[34m[2023-01-28 17:39:38.587 algo-1:28 INFO hook.py:584] name:module.conv2.weight count_params:5000\u001b[0m\n",
      "\u001b[34m[2023-01-28 17:39:38.587 algo-1:28 INFO hook.py:584] name:module.conv2.bias count_params:20\u001b[0m\n",
      "\u001b[34m[2023-01-28 17:39:38.587 algo-1:28 INFO hook.py:584] name:module.fc1.weight count_params:16000\u001b[0m\n",
      "\u001b[34m[2023-01-28 17:39:38.587 algo-1:28 INFO hook.py:584] name:module.fc1.bias count_params:50\u001b[0m\n",
      "\u001b[34m[2023-01-28 17:39:38.587 algo-1:28 INFO hook.py:584] name:module.fc2.weight count_params:500\u001b[0m\n",
      "\u001b[34m[2023-01-28 17:39:38.587 algo-1:28 INFO hook.py:584] name:module.fc2.bias count_params:10\u001b[0m\n",
      "\u001b[34m[2023-01-28 17:39:38.587 algo-1:28 INFO hook.py:586] Total Trainable Params: 21840\u001b[0m\n",
      "\u001b[34m[2023-01-28 17:39:38.588 algo-1:28 INFO hook.py:413] Monitoring the collections: losses\u001b[0m\n",
      "\u001b[34m[2023-01-28 17:39:38.591 algo-1:28 INFO hook.py:476] Hook is writing from the hook with pid: 28\u001b[0m\n",
      "\u001b[34m01/28/2023 17:39:41 | __main__ | INFO: Train Epoch: 1 [6400/60000, (10.660980810234541%)], Train Loss: 1.695285;\u001b[0m\n",
      "\u001b[34m01/28/2023 17:39:43 | __main__ | INFO: Train Epoch: 1 [12800/60000, (21.321961620469082%)], Train Loss: 0.925443;\u001b[0m\n",
      "\u001b[34m01/28/2023 17:39:46 | __main__ | INFO: Train Epoch: 1 [19200/60000, (31.982942430703623%)], Train Loss: 0.701381;\u001b[0m\n",
      "\u001b[34m01/28/2023 17:39:49 | __main__ | INFO: Train Epoch: 1 [25600/60000, (42.643923240938165%)], Train Loss: 0.438949;\u001b[0m\n",
      "\u001b[34m01/28/2023 17:39:52 | __main__ | INFO: Train Epoch: 1 [32000/60000, (53.304904051172706%)], Train Loss: 0.417485;\u001b[0m\n",
      "\u001b[34m01/28/2023 17:39:55 | __main__ | INFO: Train Epoch: 1 [38400/60000, (63.96588486140725%)], Train Loss: 0.500074;\u001b[0m\n",
      "\u001b[34m01/28/2023 17:39:58 | __main__ | INFO: Train Epoch: 1 [44800/60000, (74.6268656716418%)], Train Loss: 0.385048;\u001b[0m\n",
      "\u001b[34m01/28/2023 17:40:00 | __main__ | INFO: Train Epoch: 1 [51200/60000, (85.28784648187633%)], Train Loss: 0.320619;\u001b[0m\n",
      "\u001b[34m01/28/2023 17:40:03 | __main__ | INFO: Train Epoch: 1 [57600/60000, (95.94882729211088%)], Train Loss: 0.388918;\u001b[0m\n",
      "\u001b[34m01/28/2023 17:40:07 | __main__ | INFO: Test Average loss: 0.1692, Accuracy: 94.97%)\u001b[0m\n",
      "\u001b[34m01/28/2023 17:40:07 | __main__ | INFO: Test Accuracy: 94%;\u001b[0m\n",
      "\u001b[34m01/28/2023 17:40:09 | __main__ | INFO: Train Epoch: 2 [6400/60000, (10.660980810234541%)], Train Loss: 0.595609;\u001b[0m\n",
      "\u001b[34m01/28/2023 17:40:12 | __main__ | INFO: Train Epoch: 2 [12800/60000, (21.321961620469082%)], Train Loss: 0.220349;\u001b[0m\n",
      "\u001b[34m01/28/2023 17:40:14 | __main__ | INFO: Train Epoch: 2 [19200/60000, (31.982942430703623%)], Train Loss: 0.279861;\u001b[0m\n",
      "\u001b[34m01/28/2023 17:40:17 | __main__ | INFO: Train Epoch: 2 [25600/60000, (42.643923240938165%)], Train Loss: 0.372393;\u001b[0m\n",
      "\u001b[34m01/28/2023 17:40:19 | __main__ | INFO: Train Epoch: 2 [32000/60000, (53.304904051172706%)], Train Loss: 0.417044;\u001b[0m\n",
      "\u001b[34m01/28/2023 17:40:22 | __main__ | INFO: Train Epoch: 2 [38400/60000, (63.96588486140725%)], Train Loss: 0.197044;\u001b[0m\n",
      "\u001b[34m01/28/2023 17:40:24 | __main__ | INFO: Train Epoch: 2 [44800/60000, (74.6268656716418%)], Train Loss: 0.240863;\u001b[0m\n",
      "\u001b[34m01/28/2023 17:40:26 | __main__ | INFO: Train Epoch: 2 [51200/60000, (85.28784648187633%)], Train Loss: 0.320238;\u001b[0m\n",
      "\u001b[34m01/28/2023 17:40:29 | __main__ | INFO: Train Epoch: 2 [57600/60000, (95.94882729211088%)], Train Loss: 0.212216;\u001b[0m\n",
      "\u001b[34m01/28/2023 17:40:32 | __main__ | INFO: Test Average loss: 0.1064, Accuracy: 96.77%)\u001b[0m\n",
      "\u001b[34m01/28/2023 17:40:32 | __main__ | INFO: Test Accuracy: 96%;\u001b[0m\n",
      "\u001b[34m01/28/2023 17:40:32 | __main__ | INFO: Saving the model.\u001b[0m\n",
      "\u001b[34m/opt/conda/lib/python3.6/site-packages/torch/nn/_reduction.py:44: UserWarning: size_average and reduce args will be deprecated, please use reduction='sum' instead.\n",
      "  warnings.warn(warning.format(ret))\u001b[0m\n",
      "\u001b[34m2023-01-28 17:40:33,071 sagemaker-training-toolkit INFO     Reporting training SUCCESS\u001b[0m\n",
      "\n",
      "2023-01-28 17:40:40 Uploading - Uploading generated training model\n",
      "2023-01-28 17:41:10 Completed - Training job completed\n",
      "ProfilerReport-1674927404: NoIssuesFound\n",
      "Training seconds: 147\n",
      "Billable seconds: 147\n"
     ]
    }
   ],
   "source": [
    "for i, num_hidden_channels in enumerate([35, 50]):\n",
    "    \n",
    "    trial_name = f\"cnn-training-job-{num_hidden_channels}-hidden-channels{int(time.time())}\"\n",
    "    cnn_trial = Trial.create(\n",
    "        trial_name=trial_name,\n",
    "        experiment_name=mnist_experiment.experiment_name,\n",
    "        sagemaker_boto_client=sm,\n",
    "    )\n",
    "    hidden_channel_trial_name_map[num_hidden_channels] = trial_name\n",
    "\n",
    "    # associate the preprocessing trial component with the current trial\n",
    "    cnn_trial.add_trial_component(preprocessing_trial_component)\n",
    "\n",
    "    # all input configurations, parameters, and metrics specified in estimator definition are automatically tracked\n",
    "    estimator = PyTorch(\n",
    "        entry_point='mnist.py',\n",
    "        source_dir='./scripts/',\n",
    "        role=role,\n",
    "        sagemaker_session=sagemaker.Session(sagemaker_client=sm),\n",
    "        framework_version='1.6.0',\n",
    "        py_version='py3',\n",
    "        instance_count=1,\n",
    "        instance_type='ml.c4.xlarge',\n",
    "        hyperparameters={\n",
    "            'epochs': 2,\n",
    "            'backend': 'gloo',\n",
    "            'hidden_units': num_hidden_channels,\n",
    "            'dropout': 0.2,\n",
    "        },\n",
    "        metric_definitions=[\n",
    "            {'Name':'train:loss', 'Regex':'Train Loss: (.*?):'},\n",
    "            {'Name':'test:loss', 'Regex':'Test Average loss: (.*?),'},\n",
    "            {'Name':'test:accuracy', 'Regex':'Test Accuracy: (.*?)%;'}\n",
    "        ],\n",
    "        enable_sagemaker_metrics=True,\n",
    "    )\n",
    "\n",
    "    cnn_training_job_name = f\"cnn-training-job-{int(time.time())}\"\n",
    "\n",
    "    estimator.fit(\n",
    "    inputs={'training': inputs},\n",
    "    job_name=cnn_training_job_name,\n",
    "    experiment_config={\n",
    "        \"TrialName\": cnn_trial.trial_name,\n",
    "        \"TrialComponentDisplayName\": \"Training\",\n",
    "    },\n",
    "    wait=True,\n",
    "    )\n",
    "\n",
    "    # give a couple of secs before dispatching the next training job\n",
    "    time.sleep(2)"
   ]
  },
  {
   "cell_type": "markdown",
   "metadata": {},
   "source": [
    "Retreive trial components by using search experssions (\"Training\" is the TrialComponentDisplayName / \"Preprocessing\" could also be used here)"
   ]
  },
  {
   "cell_type": "code",
   "execution_count": 144,
   "metadata": {},
   "outputs": [],
   "source": [
    "search_expression = {\n",
    "    \"Filters\":[\n",
    "        {\n",
    "            \"Name\": \"DisplayName\",\n",
    "            \"Operator\": \"Equals\",\n",
    "            \"Value\": \"Training\",\n",
    "        }\n",
    "    ],\n",
    "}"
   ]
  },
  {
   "cell_type": "code",
   "execution_count": 141,
   "metadata": {},
   "outputs": [],
   "source": [
    "trial_component_analytics = ExperimentAnalytics(\n",
    "    sagemaker_session=Session(session, sm),\n",
    "    experiment_name=mnist_experiment.experiment_name,\n",
    "    search_expression=search_expression,\n",
    "    sort_by=\"metrics.test:accuracy.max\",\n",
    "    sort_order=\"Descending\",\n",
    "    metric_names=[\"test:accuracy\"],\n",
    "    parameter_names=[\"hidden_channels\", \"epochs\", \"dropout\", \"optimizer\"]\n",
    ")"
   ]
  },
  {
   "cell_type": "markdown",
   "metadata": {},
   "source": [
    "This is a more succint definition than above"
   ]
  },
  {
   "cell_type": "code",
   "execution_count": 145,
   "metadata": {
    "tags": []
   },
   "outputs": [],
   "source": [
    "trial_component_analytics = ExperimentAnalytics(\n",
    "    sagemaker_session=Session(session, sm), \n",
    "    experiment_name=mnist_experiment.experiment_name,\n",
    "    search_expression=search_expression,\n",
    "    metric_names=[\"test:accuracy\"],\n",
    "    parameter_names=[\"hidden_channels\"],\n",
    "    sort_by=\"metrics.test:accuracy.max\",\n",
    "    sort_order=\"Descending\",\n",
    ")\n",
    "analytic_table = trial_component_analytics.dataframe()"
   ]
  },
  {
   "cell_type": "code",
   "execution_count": 146,
   "metadata": {},
   "outputs": [],
   "source": [
    "analytic_table = trial_component_analytics.dataframe()"
   ]
  },
  {
   "cell_type": "code",
   "execution_count": 147,
   "metadata": {},
   "outputs": [
    {
     "data": {
      "text/html": [
       "<div>\n",
       "<style scoped>\n",
       "    .dataframe tbody tr th:only-of-type {\n",
       "        vertical-align: middle;\n",
       "    }\n",
       "\n",
       "    .dataframe tbody tr th {\n",
       "        vertical-align: top;\n",
       "    }\n",
       "\n",
       "    .dataframe thead th {\n",
       "        text-align: right;\n",
       "    }\n",
       "</style>\n",
       "<table border=\"1\" class=\"dataframe\">\n",
       "  <thead>\n",
       "    <tr style=\"text-align: right;\">\n",
       "      <th></th>\n",
       "      <th>TrialComponentName</th>\n",
       "      <th>DisplayName</th>\n",
       "      <th>SourceArn</th>\n",
       "      <th>test:accuracy - Min</th>\n",
       "      <th>test:accuracy - Max</th>\n",
       "      <th>test:accuracy - Avg</th>\n",
       "      <th>test:accuracy - StdDev</th>\n",
       "      <th>test:accuracy - Last</th>\n",
       "      <th>test:accuracy - Count</th>\n",
       "      <th>training - MediaType</th>\n",
       "      <th>training - Value</th>\n",
       "      <th>SageMaker.DebugHookOutput - MediaType</th>\n",
       "      <th>SageMaker.DebugHookOutput - Value</th>\n",
       "      <th>SageMaker.ModelArtifact - MediaType</th>\n",
       "      <th>SageMaker.ModelArtifact - Value</th>\n",
       "      <th>Trials</th>\n",
       "      <th>Experiments</th>\n",
       "    </tr>\n",
       "  </thead>\n",
       "  <tbody>\n",
       "    <tr>\n",
       "      <th>0</th>\n",
       "      <td>cnn-training-job-1674927404-aws-training-job</td>\n",
       "      <td>Training</td>\n",
       "      <td>arn:aws:sagemaker:us-east-1:264639154954:train...</td>\n",
       "      <td>94.0</td>\n",
       "      <td>96.0</td>\n",
       "      <td>95.0</td>\n",
       "      <td>1.414214</td>\n",
       "      <td>96.0</td>\n",
       "      <td>2</td>\n",
       "      <td>None</td>\n",
       "      <td>s3://sagemaker-experiments-us-east-1-264639154...</td>\n",
       "      <td>None</td>\n",
       "      <td>s3://sagemaker-us-east-1-264639154954/</td>\n",
       "      <td>None</td>\n",
       "      <td>s3://sagemaker-us-east-1-264639154954/cnn-trai...</td>\n",
       "      <td>[cnn-training-job-50-hidden-channels1674927403]</td>\n",
       "      <td>[mnist-hand-written-digits-classification-1674...</td>\n",
       "    </tr>\n",
       "  </tbody>\n",
       "</table>\n",
       "</div>"
      ],
      "text/plain": [
       "                             TrialComponentName DisplayName  \\\n",
       "0  cnn-training-job-1674927404-aws-training-job    Training   \n",
       "\n",
       "                                           SourceArn  test:accuracy - Min  \\\n",
       "0  arn:aws:sagemaker:us-east-1:264639154954:train...                 94.0   \n",
       "\n",
       "   test:accuracy - Max  test:accuracy - Avg  test:accuracy - StdDev  \\\n",
       "0                 96.0                 95.0                1.414214   \n",
       "\n",
       "   test:accuracy - Last  test:accuracy - Count training - MediaType  \\\n",
       "0                  96.0                      2                 None   \n",
       "\n",
       "                                    training - Value  \\\n",
       "0  s3://sagemaker-experiments-us-east-1-264639154...   \n",
       "\n",
       "  SageMaker.DebugHookOutput - MediaType  \\\n",
       "0                                  None   \n",
       "\n",
       "        SageMaker.DebugHookOutput - Value SageMaker.ModelArtifact - MediaType  \\\n",
       "0  s3://sagemaker-us-east-1-264639154954/                                None   \n",
       "\n",
       "                     SageMaker.ModelArtifact - Value  \\\n",
       "0  s3://sagemaker-us-east-1-264639154954/cnn-trai...   \n",
       "\n",
       "                                            Trials  \\\n",
       "0  [cnn-training-job-50-hidden-channels1674927403]   \n",
       "\n",
       "                                         Experiments  \n",
       "0  [mnist-hand-written-digits-classification-1674...  "
      ]
     },
     "execution_count": 147,
     "metadata": {},
     "output_type": "execute_result"
    }
   ],
   "source": [
    "analytic_table"
   ]
  },
  {
   "cell_type": "code",
   "execution_count": 2,
   "metadata": {
    "tags": []
   },
   "outputs": [],
   "source": [
    "# for col in analytic_table.columns: \n",
    "#     print(col) "
   ]
  },
  {
   "cell_type": "markdown",
   "metadata": {},
   "source": [
    "Let's look at an example of tracing the lineage of a model by accessing the data tracked by Sagemaker Experiments for cnn-training-job-2-hidden-channels trial"
   ]
  },
  {
   "cell_type": "code",
   "execution_count": 74,
   "metadata": {},
   "outputs": [],
   "source": [
    "lineage_table = ExperimentAnalytics(\n",
    "    sagemaker_session=Session(session, sm),\n",
    "    search_expression={\n",
    "        \"Filters\":[{\n",
    "            \"Name\": \"Parents.TrialName\",\n",
    "            \"Operator\": \"Equals\",\n",
    "            \"Value\": hidden_channel_trial_name_map[50]\n",
    "        }]\n",
    "    },\n",
    "    sort_by=\"CreationTime\",\n",
    "    sort_order=\"Ascending\",\n",
    ")"
   ]
  },
  {
   "cell_type": "code",
   "execution_count": 75,
   "metadata": {},
   "outputs": [
    {
     "data": {
      "text/plain": [
       "<sagemaker.ExperimentAnalytics for None>"
      ]
     },
     "execution_count": 75,
     "metadata": {},
     "output_type": "execute_result"
    }
   ],
   "source": [
    "lineage_table"
   ]
  }
 ],
 "metadata": {
  "instance_type": "ml.t3.medium",
  "interpreter": {
   "hash": "556bd3c69953d81d367d63bac13dd17e253d3fab989eb80647a7980e8f2979cc"
  },
  "kernelspec": {
   "display_name": "Python 3 (PyTorch 1.8 Python 3.6 CPU Optimized)",
   "language": "python",
   "name": "python3"
  },
  "language_info": {
   "codemirror_mode": {
    "name": "ipython",
    "version": 3
   },
   "file_extension": ".py",
   "mimetype": "text/x-python",
   "name": "python",
   "nbconvert_exporter": "python",
   "pygments_lexer": "ipython3",
   "version": "3.10.0"
  },
  "toc-autonumbering": false
 },
 "nbformat": 4,
 "nbformat_minor": 4
}
